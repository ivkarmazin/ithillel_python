{
  "nbformat": 4,
  "nbformat_minor": 0,
  "metadata": {
    "colab": {
      "provenance": [],
      "authorship_tag": "ABX9TyPJomuz/4NLF8j8XqtCroKo",
      "include_colab_link": true
    },
    "kernelspec": {
      "name": "python3",
      "display_name": "Python 3"
    },
    "language_info": {
      "name": "python"
    }
  },
  "cells": [
    {
      "cell_type": "markdown",
      "metadata": {
        "id": "view-in-github",
        "colab_type": "text"
      },
      "source": [
        "<a href=\"https://colab.research.google.com/github/ivkarmazin/ithillel_python/blob/main/%D0%94%D0%97_1_%D0%94%D0%B5%D0%BA%D0%BE%D1%80%D0%B0%D1%82%D0%BE%D1%80%D0%B8.ipynb\" target=\"_parent\"><img src=\"https://colab.research.google.com/assets/colab-badge.svg\" alt=\"Open In Colab\"/></a>"
      ]
    },
    {
      "cell_type": "markdown",
      "source": [
        "1. Реалізувати LFU алгоритм для кешування. За базу берем існуючий декоратор.\n",
        "Написати для фетчування юерелів. Додати можливість указати максимум елементів в кеші.\n",
        "\n",
        "2. Створити декоратор для заміру пам'яті.\n",
        "\n",
        "3. Створити окремий гіт репозиторій для домашніх завдань (github).\n",
        "Окрема гілка, окрема папка. Пул ріквест на main."
      ],
      "metadata": {
        "id": "5ueA1mQuSp9m"
      }
    },
    {
      "cell_type": "code",
      "source": [
        "import requests\n",
        "import os\n",
        "import psutil"
      ],
      "metadata": {
        "id": "VTvYx3wUhkWM"
      },
      "execution_count": 4,
      "outputs": []
    },
    {
      "cell_type": "code",
      "source": [
        "def cache(max_limit=64):\n",
        "    def internal(f):\n",
        "        @functools.wraps(f)\n",
        "        def deco(*args, **kwargs):\n",
        "            cache_key = (args, tuple(kwargs.items()))\n",
        "            if cache_key in deco._cache:\n",
        "                # переносимо в початок списку\n",
        "                deco._cache.move_to_front(cache_key, last=True) # move_to_front\n",
        "                return deco._cache[cache_key]\n",
        "            result = f(*args, **kwargs)\n",
        "            # видаляємо якшо досягли ліміта\n",
        "            if len(deco._cache) >= max_limit:\n",
        "                 # видаляємо останній елемент\n",
        "                deco._cache.popitem(last=True)                  # last=True\n",
        "            deco._cache[cache_key] = result\n",
        "            return result\n",
        "        deco._cache = OrderedDict()\n",
        "        return deco\n",
        "    return internal"
      ],
      "metadata": {
        "id": "f1Etp1q8eDIz"
      },
      "execution_count": null,
      "outputs": []
    },
    {
      "cell_type": "code",
      "source": [
        "@cache\n",
        "def fetch_url(url, first_n=100):\n",
        "    \"\"\"Fetch a given url\"\"\"\n",
        "    res = requests.get(url)\n",
        "    return res.content[:first_n] if first_n else res.content"
      ],
      "metadata": {
        "id": "xpNd3wQ5hy8c"
      },
      "execution_count": 5,
      "outputs": []
    },
    {
      "cell_type": "code",
      "source": [
        "fetch_url(\"http://ukr.net\")"
      ],
      "metadata": {
        "colab": {
          "base_uri": "https://localhost:8080/"
        },
        "id": "fMDqz9srhz0X",
        "outputId": "7cb0cb21-2e6b-4ca2-c9eb-cf9560ef5365"
      },
      "execution_count": 7,
      "outputs": [
        {
          "output_type": "execute_result",
          "data": {
            "text/plain": [
              "b'<!DOCTYPE html>\\n<html lang=\"uk\">\\n<head>\\n<script>!function(){\"use strict\";var r=window.location,l=\"ht'"
            ]
          },
          "metadata": {},
          "execution_count": 7
        }
      ]
    },
    {
      "cell_type": "code",
      "source": [
        "import psutil\n",
        "import os\n",
        "from functools import wraps\n",
        "\n",
        "def memory_usage_decorator(func):\n",
        "    @wraps(func)\n",
        "    def wrapper(*args, **kwargs):\n",
        "        process = psutil.Process(os.getpid())\n",
        "        mem_before = process.memory_info().rss\n",
        "        result = func(*args, **kwargs)\n",
        "        mem_after = process.memory_info().rss\n",
        "        print(f\"Memory used by {func.__name__}: {mem_after - mem_before} bytes\")\n",
        "        return result\n",
        "    return wrapper"
      ],
      "metadata": {
        "collapsed": true,
        "id": "zHt2a54vb4Mt"
      },
      "execution_count": 10,
      "outputs": []
    },
    {
      "cell_type": "code",
      "source": [
        "@memory_usage_decorator\n",
        "def fetch_url_mem(url, first_n=100):\n",
        "    \"\"\"Fetch a given url\"\"\"\n",
        "    res = requests.get(url)\n",
        "    return #res.content[:first_n] if first_n else res.content"
      ],
      "metadata": {
        "id": "NKcyQmmnikXr"
      },
      "execution_count": 13,
      "outputs": []
    },
    {
      "cell_type": "code",
      "source": [
        "fetch_url_mem(\"http://ukr.net\")"
      ],
      "metadata": {
        "colab": {
          "base_uri": "https://localhost:8080/"
        },
        "id": "5L6hcuVnik1k",
        "outputId": "2ad097dd-0ff1-4c37-b612-bf1ccca7140d"
      },
      "execution_count": 14,
      "outputs": [
        {
          "output_type": "stream",
          "name": "stdout",
          "text": [
            "Memory used by fetch_url_mem: 811008 bytes\n"
          ]
        }
      ]
    }
  ]
}